{
  "nbformat": 4,
  "nbformat_minor": 0,
  "metadata": {
    "colab": {
      "provenance": [],
      "authorship_tag": "ABX9TyN11preA761Idgoj49UHHMD",
      "include_colab_link": true
    },
    "kernelspec": {
      "name": "python3",
      "display_name": "Python 3"
    },
    "language_info": {
      "name": "python"
    },
    "accelerator": "GPU",
    "gpuClass": "standard"
  },
  "cells": [
    {
      "cell_type": "markdown",
      "metadata": {
        "id": "view-in-github",
        "colab_type": "text"
      },
      "source": [
        "<a href=\"https://colab.research.google.com/github/MoMahmoud8/Digit-Recognizer/blob/main/Digit_Recognizer.ipynb\" target=\"_parent\"><img src=\"https://colab.research.google.com/assets/colab-badge.svg\" alt=\"Open In Colab\"/></a>"
      ]
    },
    {
      "cell_type": "code",
      "execution_count": null,
      "metadata": {
        "colab": {
          "base_uri": "https://localhost:8080/"
        },
        "id": "K1gw2NPU6-f1",
        "outputId": "76ad3139-f590-4ab5-8c7b-3793c0ff8c13"
      },
      "outputs": [
        {
          "output_type": "stream",
          "name": "stdout",
          "text": [
            "Looking in indexes: https://pypi.org/simple, https://us-python.pkg.dev/colab-wheels/public/simple/\n",
            "Collecting patool\n",
            "  Downloading patool-1.12-py2.py3-none-any.whl (77 kB)\n",
            "\u001b[2K     \u001b[90m━━━━━━━━━━━━━━━━━━━━━━━━━━━━━━━━━━━━━━━━\u001b[0m \u001b[32m77.5/77.5 KB\u001b[0m \u001b[31m8.9 MB/s\u001b[0m eta \u001b[36m0:00:00\u001b[0m\n",
            "\u001b[?25hInstalling collected packages: patool\n",
            "Successfully installed patool-1.12\n"
          ]
        }
      ],
      "source": [
        "!pip install patool\n"
      ]
    },
    {
      "cell_type": "code",
      "source": [
        "import patoolib\n",
        "patoolib.extract_archive(\"/content/test.csv.zip\")\n",
        "patoolib.extract_archive(\"/content/train.csv.zip\")\n"
      ],
      "metadata": {
        "colab": {
          "base_uri": "https://localhost:8080/",
          "height": 140
        },
        "id": "GZq8LzUf7JgS",
        "outputId": "2d2625f1-f28a-437c-ecf2-e7c8a1a5eebb"
      },
      "execution_count": null,
      "outputs": [
        {
          "output_type": "stream",
          "name": "stdout",
          "text": [
            "patool: Extracting /content/test.csv.zip ...\n",
            "patool: running /usr/bin/7z x -o./Unpack_4j8ei65t -- /content/test.csv.zip\n",
            "patool: ... /content/test.csv.zip extracted to `test.csv'.\n",
            "patool: Extracting /content/train.csv.zip ...\n",
            "patool: running /usr/bin/7z x -o./Unpack_jst2ripo -- /content/train.csv.zip\n",
            "patool: ... /content/train.csv.zip extracted to `train.csv'.\n"
          ]
        },
        {
          "output_type": "execute_result",
          "data": {
            "text/plain": [
              "'train.csv'"
            ],
            "application/vnd.google.colaboratory.intrinsic+json": {
              "type": "string"
            }
          },
          "metadata": {},
          "execution_count": 5
        }
      ]
    },
    {
      "cell_type": "code",
      "source": [],
      "metadata": {
        "id": "7g0KNgAT7Jh6"
      },
      "execution_count": null,
      "outputs": []
    },
    {
      "cell_type": "code",
      "source": [
        "import pandas as pd\n",
        "import numpy as np"
      ],
      "metadata": {
        "id": "zV-sdfoA7JmS"
      },
      "execution_count": null,
      "outputs": []
    },
    {
      "cell_type": "code",
      "source": [
        "train = pd.read_csv('/content/train.csv')\n",
        "#test = pd.read_csv('/content/test.csv')"
      ],
      "metadata": {
        "id": "OtIwID277Jn8"
      },
      "execution_count": null,
      "outputs": []
    },
    {
      "cell_type": "code",
      "source": [
        "train.shape"
      ],
      "metadata": {
        "colab": {
          "base_uri": "https://localhost:8080/"
        },
        "id": "mAxBwVaZ7JyC",
        "outputId": "002778ae-86a2-4cfb-ec72-f42f674e6716"
      },
      "execution_count": null,
      "outputs": [
        {
          "output_type": "execute_result",
          "data": {
            "text/plain": [
              "(42000, 785)"
            ]
          },
          "metadata": {},
          "execution_count": 8
        }
      ]
    },
    {
      "cell_type": "code",
      "source": [
        "#test.shape"
      ],
      "metadata": {
        "colab": {
          "base_uri": "https://localhost:8080/"
        },
        "id": "Vr0oUtOJ7J0K",
        "outputId": "dcb27019-7422-4aa2-9f06-6b18d85d1c41"
      },
      "execution_count": null,
      "outputs": [
        {
          "output_type": "execute_result",
          "data": {
            "text/plain": [
              "(28000, 784)"
            ]
          },
          "metadata": {},
          "execution_count": 9
        }
      ]
    },
    {
      "cell_type": "code",
      "source": [
        "#split data from the target\n",
        "X = train.drop(['label'], 1).values\n",
        "y = train['label'].values"
      ],
      "metadata": {
        "colab": {
          "base_uri": "https://localhost:8080/"
        },
        "id": "C5aszMhm7J49",
        "outputId": "aa1031d7-7532-479d-8620-fcd8817e39b4"
      },
      "execution_count": null,
      "outputs": [
        {
          "output_type": "stream",
          "name": "stderr",
          "text": [
            "<ipython-input-10-a59f6058bd32>:1: FutureWarning: In a future version of pandas all arguments of DataFrame.drop except for the argument 'labels' will be keyword-only\n",
            "  X = train.drop(['label'], 1).values\n"
          ]
        }
      ]
    },
    {
      "cell_type": "code",
      "source": [
        "X.shape"
      ],
      "metadata": {
        "colab": {
          "base_uri": "https://localhost:8080/"
        },
        "id": "ye1hR2OH7J53",
        "outputId": "473718fd-1ba5-4c3a-ffb0-595fa19dccc8"
      },
      "execution_count": null,
      "outputs": [
        {
          "output_type": "execute_result",
          "data": {
            "text/plain": [
              "(42000, 784)"
            ]
          },
          "metadata": {},
          "execution_count": 12
        }
      ]
    },
    {
      "cell_type": "code",
      "source": [
        "#normalization\n",
        "X = X / 255.0\n"
      ],
      "metadata": {
        "id": "NkbsOhOR7KAc"
      },
      "execution_count": null,
      "outputs": []
    },
    {
      "cell_type": "code",
      "source": [
        "#reshape data\n",
        "X = X.reshape(-1,28,28,1)\n"
      ],
      "metadata": {
        "id": "gbJOoi2K7KCG"
      },
      "execution_count": null,
      "outputs": []
    },
    {
      "cell_type": "code",
      "source": [
        "y"
      ],
      "metadata": {
        "colab": {
          "base_uri": "https://localhost:8080/"
        },
        "id": "YFk6h-yq7KI-",
        "outputId": "2bd69d31-528d-40fb-d375-a90a40549dad"
      },
      "execution_count": null,
      "outputs": [
        {
          "output_type": "execute_result",
          "data": {
            "text/plain": [
              "array([1, 0, 1, ..., 7, 6, 9])"
            ]
          },
          "metadata": {},
          "execution_count": 16
        }
      ]
    },
    {
      "cell_type": "code",
      "source": [
        "# Encode labels to one hot vectors (ex : 2 -> [0,0,1,0,0,0,0,0,0,0])\n",
        "from keras.utils import to_categorical\n",
        "y = to_categorical(y)\n",
        "print(f\"Label size {y.shape}\")"
      ],
      "metadata": {
        "colab": {
          "base_uri": "https://localhost:8080/"
        },
        "id": "0NhbkhTJ7KJ1",
        "outputId": "b217d734-131d-47c3-cfde-df5fcfc56174"
      },
      "execution_count": null,
      "outputs": [
        {
          "output_type": "stream",
          "name": "stdout",
          "text": [
            "Label size (42000, 10)\n"
          ]
        }
      ]
    },
    {
      "cell_type": "code",
      "source": [
        "y"
      ],
      "metadata": {
        "colab": {
          "base_uri": "https://localhost:8080/"
        },
        "id": "FnoCRqmf7KRo",
        "outputId": "20d23b02-7a81-45ca-ad19-9e4f6a5101f9"
      },
      "execution_count": null,
      "outputs": [
        {
          "output_type": "execute_result",
          "data": {
            "text/plain": [
              "array([[0., 1., 0., ..., 0., 0., 0.],\n",
              "       [1., 0., 0., ..., 0., 0., 0.],\n",
              "       [0., 1., 0., ..., 0., 0., 0.],\n",
              "       ...,\n",
              "       [0., 0., 0., ..., 1., 0., 0.],\n",
              "       [0., 0., 0., ..., 0., 0., 0.],\n",
              "       [0., 0., 0., ..., 0., 0., 1.]], dtype=float32)"
            ]
          },
          "metadata": {},
          "execution_count": 19
        }
      ]
    },
    {
      "cell_type": "code",
      "source": [
        "from sklearn.model_selection import train_test_split\n",
        "\n",
        "X_train, X_test, y_train, y_test = train_test_split(X, y, test_size=0.1, random_state=0)\n"
      ],
      "metadata": {
        "id": "D7PCXegS7KTg"
      },
      "execution_count": null,
      "outputs": []
    },
    {
      "cell_type": "code",
      "source": [],
      "metadata": {
        "id": "rMZBkZysspov"
      },
      "execution_count": null,
      "outputs": []
    },
    {
      "cell_type": "markdown",
      "source": [
        "Visualization"
      ],
      "metadata": {
        "id": "u58hOihWssyk"
      }
    },
    {
      "cell_type": "code",
      "source": [
        "import matplotlib.pyplot as plt"
      ],
      "metadata": {
        "id": "2rUno1fQJJUd"
      },
      "execution_count": null,
      "outputs": []
    },
    {
      "cell_type": "code",
      "source": [
        "X_train__ = X_train.reshape(X_train.shape[0], 28, 28)\n",
        "\n",
        "fig, axis = plt.subplots(1, 4, figsize=(20, 10))\n",
        "for i, ax in enumerate(axis.flat):\n",
        "    ax.imshow(X_train__[i], cmap='binary')\n",
        "    digit = y_train[i].argmax()\n",
        "    ax.set(title = f\"Real Number is {digit}\");"
      ],
      "metadata": {
        "id": "O7LazID5JJXG",
        "outputId": "eb5000d8-45f6-403a-f9c9-666305753729",
        "colab": {
          "base_uri": "https://localhost:8080/",
          "height": 298
        }
      },
      "execution_count": null,
      "outputs": [
        {
          "output_type": "display_data",
          "data": {
            "text/plain": [
              "<Figure size 1440x720 with 4 Axes>"
            ],
            "image/png": "[encoded data removed]"
          },
          "metadata": {
            "needs_background": "light"
          }
        }
      ]
    },
    {
      "cell_type": "code",
      "source": [],
      "metadata": {
        "id": "HiZTink0JJX9"
      },
      "execution_count": null,
      "outputs": []
    },
    {
      "cell_type": "markdown",
      "source": [
        "CNN Model"
      ],
      "metadata": {
        "id": "gXu2DoNgsx6m"
      }
    },
    {
      "cell_type": "code",
      "source": [
        "import keras\n",
        "from keras.models import Sequential\n",
        "from keras.layers import Conv2D, Lambda, MaxPooling2D # convolution layers\n",
        "from keras.layers import Dense, Dropout, Flatten # core layers\n",
        "from tensorflow.keras.layers import BatchNormalization\n"
      ],
      "metadata": {
        "id": "C_yolf2oJJcO"
      },
      "execution_count": null,
      "outputs": []
    },
    {
      "cell_type": "code",
      "source": [
        "model=Sequential()\n",
        "\n",
        "model.add(Conv2D(filters=64, kernel_size = (3,3), activation=\"relu\", input_shape=(28,28,1)))\n",
        "model.add(Conv2D(filters=64, kernel_size = (3,3), activation=\"relu\"))\n",
        "model.add(MaxPooling2D(pool_size=(2,2)))\n",
        "model.add(BatchNormalization())\n",
        "\n",
        "model.add(Conv2D(filters=128, kernel_size = (3,3), activation=\"relu\"))\n",
        "model.add(Conv2D(filters=128, kernel_size = (3,3), activation=\"relu\"))\n",
        "model.add(MaxPooling2D(pool_size=(2,2)))\n",
        "model.add(BatchNormalization())    \n",
        "\n",
        "model.add(Conv2D(filters=256, kernel_size = (3,3), activation=\"relu\"))\n",
        "model.add(MaxPooling2D(pool_size=(2,2)))\n",
        "model.add(BatchNormalization())\n",
        "    \n",
        "model.add(Flatten())\n",
        "model.add(Dense(512,activation=\"relu\"))\n",
        "    \n",
        "model.add(Dense(10,activation=\"softmax\"))"
      ],
      "metadata": {
        "id": "AiyD8RN2JJdK"
      },
      "execution_count": null,
      "outputs": []
    },
    {
      "cell_type": "code",
      "source": [
        "model.compile(loss=\"categorical_crossentropy\", optimizer=\"adam\", metrics=[\"accuracy\"])\n",
        "model.summary()\n"
      ],
      "metadata": {
        "id": "ZUA6plg1JJhH",
        "outputId": "c5885951-fc03-487a-bddc-7203f390f0bd",
        "colab": {
          "base_uri": "https://localhost:8080/"
        }
      },
      "execution_count": null,
      "outputs": [
        {
          "output_type": "stream",
          "name": "stdout",
          "text": [
            "Model: \"sequential_3\"\n",
            "_________________________________________________________________\n",
            " Layer (type)                Output Shape              Param #   \n",
            "=================================================================\n",
            " conv2d_15 (Conv2D)          (None, 26, 26, 64)        640       \n",
            "                                                                 \n",
            " conv2d_16 (Conv2D)          (None, 24, 24, 64)        36928     \n",
            "                                                                 \n",
            " max_pooling2d_9 (MaxPooling  (None, 12, 12, 64)       0         \n",
            " 2D)                                                             \n",
            "                                                                 \n",
            " batch_normalization_9 (Batc  (None, 12, 12, 64)       256       \n",
            " hNormalization)                                                 \n",
            "                                                                 \n",
            " conv2d_17 (Conv2D)          (None, 10, 10, 128)       73856     \n",
            "                                                                 \n",
            " conv2d_18 (Conv2D)          (None, 8, 8, 128)         147584    \n",
            "                                                                 \n",
            " max_pooling2d_10 (MaxPoolin  (None, 4, 4, 128)        0         \n",
            " g2D)                                                            \n",
            "                                                                 \n",
            " batch_normalization_10 (Bat  (None, 4, 4, 128)        512       \n",
            " chNormalization)                                                \n",
            "                                                                 \n",
            " conv2d_19 (Conv2D)          (None, 2, 2, 256)         295168    \n",
            "                                                                 \n",
            " max_pooling2d_11 (MaxPoolin  (None, 1, 1, 256)        0         \n",
            " g2D)                                                            \n",
            "                                                                 \n",
            " batch_normalization_11 (Bat  (None, 1, 1, 256)        1024      \n",
            " chNormalization)                                                \n",
            "                                                                 \n",
            " flatten_3 (Flatten)         (None, 256)               0         \n",
            "                                                                 \n",
            " dense_6 (Dense)             (None, 512)               131584    \n",
            "                                                                 \n",
            " dense_7 (Dense)             (None, 10)                5130      \n",
            "                                                                 \n",
            "=================================================================\n",
            "Total params: 692,682\n",
            "Trainable params: 691,786\n",
            "Non-trainable params: 896\n",
            "_________________________________________________________________\n"
          ]
        }
      ]
    },
    {
      "cell_type": "markdown",
      "source": [
        "Data Augmentation"
      ],
      "metadata": {
        "id": "pvTFHFLEs3cv"
      }
    },
    {
      "cell_type": "code",
      "source": [
        "from keras.preprocessing.image import ImageDataGenerator\n"
      ],
      "metadata": {
        "id": "8m22p4rkJJiG"
      },
      "execution_count": null,
      "outputs": []
    },
    {
      "cell_type": "code",
      "source": [
        "datagen = ImageDataGenerator(\n",
        "        rotation_range=15,  # randomly rotate images in the range (degrees, 0 to 180)\n",
        "        zoom_range = 0.01, # Randomly zoom image \n",
        "        width_shift_range=0.1,  # randomly shift images horizontally (fraction of total width)\n",
        "        height_shift_range=0.1,  # randomly shift images vertically (fraction of total height)\n",
        ")\n",
        "\n",
        "train_gen = datagen.flow(X_train, y_train, batch_size=128)\n",
        "test_gen = datagen.flow(X_test, y_test, batch_size=128)"
      ],
      "metadata": {
        "id": "IkOAF6WUJJl8"
      },
      "execution_count": null,
      "outputs": []
    },
    {
      "cell_type": "code",
      "source": [],
      "metadata": {
        "id": "P3n_qQJCJJm5"
      },
      "execution_count": null,
      "outputs": []
    },
    {
      "cell_type": "markdown",
      "source": [
        "Early Stopping , ReduceLROnPlateau"
      ],
      "metadata": {
        "id": "dw0_cJrls_Jf"
      }
    },
    {
      "cell_type": "code",
      "source": [
        "epochs = 100\n",
        "batch_size = 128\n",
        "train_steps = X_train.shape[0] // batch_size\n",
        "valid_steps = X_test.shape[0] // batch_size\n",
        "#early stop\n",
        "es = keras.callbacks.EarlyStopping(\n",
        "        monitor=\"val_accuracy\", # metrics to monitor\n",
        "        patience=10, # how many epochs before stop\n",
        "        verbose=1,\n",
        "        mode=\"max\", # we need the maximum accuracy.\n",
        "        restore_best_weights=True, # \n",
        "     )\n",
        "#ReduceLROnPlateau\n",
        "rp = keras.callbacks.ReduceLROnPlateau(\n",
        "        monitor=\"val_accuracy\",\n",
        "        factor=0.2,\n",
        "        patience=3,\n",
        "        verbose=1,\n",
        "        mode=\"max\",\n",
        "        min_lr=0.00001,\n",
        "     )"
      ],
      "metadata": {
        "id": "TycPHM-VJJqs"
      },
      "execution_count": null,
      "outputs": []
    },
    {
      "cell_type": "code",
      "source": [
        "# Fit the model\n",
        "history = model.fit_generator(train_gen, \n",
        "                              epochs = epochs, \n",
        "                              steps_per_epoch = train_steps,\n",
        "                              validation_data = test_gen,\n",
        "                              validation_steps = valid_steps, \n",
        "                              callbacks=[es, rp])"
      ],
      "metadata": {
        "id": "pQeitK35JJro",
        "outputId": "a2a2b4d1-d6c8-4d51-a85d-90269cb2af91",
        "colab": {
          "base_uri": "https://localhost:8080/"
        }
      },
      "execution_count": null,
      "outputs": [
        {
          "output_type": "stream",
          "name": "stdout",
          "text": [
            "Epoch 1/100\n"
          ]
        },
        {
          "output_type": "stream",
          "name": "stderr",
          "text": [
            "<ipython-input-51-2676189ccf2f>:2: UserWarning: `Model.fit_generator` is deprecated and will be removed in a future version. Please use `Model.fit`, which supports generators.\n",
            "  history = model.fit_generator(train_gen,\n"
          ]
        },
        {
          "output_type": "stream",
          "name": "stdout",
          "text": [
            "295/295 [==============================] - 43s 144ms/step - loss: 0.1608 - accuracy: 0.9511 - val_loss: 2.3598 - val_accuracy: 0.3005 - lr: 0.0010\n",
            "Epoch 2/100\n",
            "295/295 [==============================] - 12s 41ms/step - loss: 0.0651 - accuracy: 0.9803 - val_loss: 0.0875 - val_accuracy: 0.9717 - lr: 0.0010\n",
            "Epoch 3/100\n",
            "295/295 [==============================] - 12s 41ms/step - loss: 0.0501 - accuracy: 0.9854 - val_loss: 0.0642 - val_accuracy: 0.9800 - lr: 0.0010\n",
            "Epoch 4/100\n",
            "295/295 [==============================] - 12s 41ms/step - loss: 0.0430 - accuracy: 0.9868 - val_loss: 0.0679 - val_accuracy: 0.9800 - lr: 0.0010\n",
            "Epoch 5/100\n",
            "295/295 [==============================] - 12s 42ms/step - loss: 0.0433 - accuracy: 0.9868 - val_loss: 0.0777 - val_accuracy: 0.9783 - lr: 0.0010\n",
            "Epoch 6/100\n",
            "295/295 [==============================] - 13s 46ms/step - loss: 0.0331 - accuracy: 0.9893 - val_loss: 0.0384 - val_accuracy: 0.9880 - lr: 0.0010\n",
            "Epoch 7/100\n",
            "295/295 [==============================] - 12s 42ms/step - loss: 0.0325 - accuracy: 0.9902 - val_loss: 0.0610 - val_accuracy: 0.9817 - lr: 0.0010\n",
            "Epoch 8/100\n",
            "295/295 [==============================] - 12s 42ms/step - loss: 0.0295 - accuracy: 0.9907 - val_loss: 0.0439 - val_accuracy: 0.9873 - lr: 0.0010\n",
            "Epoch 9/100\n",
            "294/295 [============================>.] - ETA: 0s - loss: 0.0282 - accuracy: 0.9909\n",
            "Epoch 9: ReduceLROnPlateau reducing learning rate to 0.00020000000949949026.\n",
            "295/295 [==============================] - 13s 44ms/step - loss: 0.0283 - accuracy: 0.9908 - val_loss: 0.0527 - val_accuracy: 0.9866 - lr: 0.0010\n",
            "Epoch 10/100\n",
            "295/295 [==============================] - 13s 44ms/step - loss: 0.0169 - accuracy: 0.9948 - val_loss: 0.0229 - val_accuracy: 0.9937 - lr: 2.0000e-04\n",
            "Epoch 11/100\n",
            "295/295 [==============================] - 13s 44ms/step - loss: 0.0115 - accuracy: 0.9967 - val_loss: 0.0216 - val_accuracy: 0.9934 - lr: 2.0000e-04\n",
            "Epoch 12/100\n",
            "295/295 [==============================] - 12s 42ms/step - loss: 0.0108 - accuracy: 0.9965 - val_loss: 0.0214 - val_accuracy: 0.9946 - lr: 2.0000e-04\n",
            "Epoch 13/100\n",
            "295/295 [==============================] - 12s 41ms/step - loss: 0.0095 - accuracy: 0.9973 - val_loss: 0.0230 - val_accuracy: 0.9924 - lr: 2.0000e-04\n",
            "Epoch 14/100\n",
            "295/295 [==============================] - 13s 43ms/step - loss: 0.0086 - accuracy: 0.9972 - val_loss: 0.0201 - val_accuracy: 0.9934 - lr: 2.0000e-04\n",
            "Epoch 15/100\n",
            "295/295 [==============================] - ETA: 0s - loss: 0.0096 - accuracy: 0.9970\n",
            "Epoch 15: ReduceLROnPlateau reducing learning rate to 4.0000001899898055e-05.\n",
            "295/295 [==============================] - 12s 41ms/step - loss: 0.0096 - accuracy: 0.9970 - val_loss: 0.0240 - val_accuracy: 0.9937 - lr: 2.0000e-04\n",
            "Epoch 16/100\n",
            "295/295 [==============================] - 12s 42ms/step - loss: 0.0076 - accuracy: 0.9977 - val_loss: 0.0194 - val_accuracy: 0.9927 - lr: 4.0000e-05\n",
            "Epoch 17/100\n",
            "295/295 [==============================] - 12s 42ms/step - loss: 0.0069 - accuracy: 0.9980 - val_loss: 0.0210 - val_accuracy: 0.9944 - lr: 4.0000e-05\n",
            "Epoch 18/100\n",
            "294/295 [============================>.] - ETA: 0s - loss: 0.0070 - accuracy: 0.9979\n",
            "Epoch 18: ReduceLROnPlateau reducing learning rate to 1e-05.\n",
            "295/295 [==============================] - 12s 42ms/step - loss: 0.0070 - accuracy: 0.9980 - val_loss: 0.0205 - val_accuracy: 0.9941 - lr: 4.0000e-05\n",
            "Epoch 19/100\n",
            "295/295 [==============================] - 12s 41ms/step - loss: 0.0066 - accuracy: 0.9978 - val_loss: 0.0186 - val_accuracy: 0.9951 - lr: 1.0000e-05\n",
            "Epoch 20/100\n",
            "295/295 [==============================] - 12s 40ms/step - loss: 0.0063 - accuracy: 0.9981 - val_loss: 0.0179 - val_accuracy: 0.9949 - lr: 1.0000e-05\n",
            "Epoch 21/100\n",
            "295/295 [==============================] - 12s 41ms/step - loss: 0.0059 - accuracy: 0.9984 - val_loss: 0.0193 - val_accuracy: 0.9939 - lr: 1.0000e-05\n",
            "Epoch 22/100\n",
            "295/295 [==============================] - 13s 45ms/step - loss: 0.0058 - accuracy: 0.9981 - val_loss: 0.0165 - val_accuracy: 0.9949 - lr: 1.0000e-05\n",
            "Epoch 23/100\n",
            "295/295 [==============================] - 12s 42ms/step - loss: 0.0058 - accuracy: 0.9984 - val_loss: 0.0161 - val_accuracy: 0.9961 - lr: 1.0000e-05\n",
            "Epoch 24/100\n",
            "295/295 [==============================] - 12s 41ms/step - loss: 0.0056 - accuracy: 0.9983 - val_loss: 0.0187 - val_accuracy: 0.9937 - lr: 1.0000e-05\n",
            "Epoch 25/100\n",
            "295/295 [==============================] - 12s 41ms/step - loss: 0.0056 - accuracy: 0.9984 - val_loss: 0.0205 - val_accuracy: 0.9954 - lr: 1.0000e-05\n",
            "Epoch 26/100\n",
            "295/295 [==============================] - 12s 42ms/step - loss: 0.0057 - accuracy: 0.9981 - val_loss: 0.0189 - val_accuracy: 0.9946 - lr: 1.0000e-05\n",
            "Epoch 27/100\n",
            "295/295 [==============================] - 12s 42ms/step - loss: 0.0055 - accuracy: 0.9984 - val_loss: 0.0222 - val_accuracy: 0.9934 - lr: 1.0000e-05\n",
            "Epoch 28/100\n",
            "295/295 [==============================] - 12s 42ms/step - loss: 0.0059 - accuracy: 0.9982 - val_loss: 0.0165 - val_accuracy: 0.9946 - lr: 1.0000e-05\n",
            "Epoch 29/100\n",
            "295/295 [==============================] - 12s 42ms/step - loss: 0.0054 - accuracy: 0.9984 - val_loss: 0.0171 - val_accuracy: 0.9951 - lr: 1.0000e-05\n",
            "Epoch 30/100\n",
            "295/295 [==============================] - 12s 41ms/step - loss: 0.0057 - accuracy: 0.9983 - val_loss: 0.0200 - val_accuracy: 0.9949 - lr: 1.0000e-05\n",
            "Epoch 31/100\n",
            "295/295 [==============================] - 12s 42ms/step - loss: 0.0061 - accuracy: 0.9980 - val_loss: 0.0203 - val_accuracy: 0.9946 - lr: 1.0000e-05\n",
            "Epoch 32/100\n",
            "295/295 [==============================] - 12s 42ms/step - loss: 0.0054 - accuracy: 0.9982 - val_loss: 0.0203 - val_accuracy: 0.9941 - lr: 1.0000e-05\n",
            "Epoch 33/100\n",
            "295/295 [==============================] - ETA: 0s - loss: 0.0046 - accuracy: 0.9989Restoring model weights from the end of the best epoch: 23.\n",
            "295/295 [==============================] - 12s 41ms/step - loss: 0.0046 - accuracy: 0.9989 - val_loss: 0.0217 - val_accuracy: 0.9937 - lr: 1.0000e-05\n",
            "Epoch 33: early stopping\n"
          ]
        }
      ]
    },
    {
      "cell_type": "code",
      "source": [
        "# Plot the loss and accuracy curves for training and validation \n",
        "fig, ax = plt.subplots(2,1, figsize=(18, 10))\n",
        "ax[0].plot(history.history['loss'], color='b', label=\"Training loss\")\n",
        "ax[0].plot(history.history['val_loss'], color='r', label=\"validation loss\",axes =ax[0])\n",
        "legend = ax[0].legend(loc='best', shadow=True)\n",
        "\n",
        "ax[1].plot(history.history['accuracy'], color='b', label=\"Training accuracy\")\n",
        "ax[1].plot(history.history['val_accuracy'], color='r',label=\"Validation accuracy\")\n",
        "legend = ax[1].legend(loc='best', shadow=True)"
      ],
      "metadata": {
        "id": "W98ut1VyJJyQ",
        "outputId": "e62466ad-9e8f-4ad2-8133-da62b8741068",
        "colab": {
          "base_uri": "https://localhost:8080/",
          "height": 592
        }
      },
      "execution_count": null,
      "outputs": [
        {
          "output_type": "display_data",
          "data": {
            "text/plain": [
              "<Figure size 1296x720 with 2 Axes>"
            ],
            "image/png": "[encoded data removed]"
          },
          "metadata": {
            "needs_background": "light"
          }
        }
      ]
    },
    {
      "cell_type": "code",
      "source": [
        "from sklearn.metrics import confusion_matrix\n",
        "import seaborn as sns\n",
        "fig = plt.figure(figsize=(10, 10)) # Set Figure\n",
        "y_pred = model.predict(X_test) # Predict class probabilities as 2 => [0.1, 0, 0.9, 0, 0, 0, 0, 0, 0, 0]\n",
        "Y_pred = np.argmax(y_pred, 1) # Decode Predicted labels\n",
        "Y_test = np.argmax(y_test, 1) # Decode labels\n",
        "\n",
        "mat = confusion_matrix(Y_test, Y_pred) # Confusion matrix\n",
        "\n",
        "# Plot Confusion matrix\n",
        "sns.heatmap(mat.T, square=True, annot=True, cbar=False, cmap=plt.cm.Blues, fmt='.0f')\n",
        "plt.xlabel('Predicted Values')\n",
        "plt.ylabel('True Values');\n",
        "plt.show();"
      ],
      "metadata": {
        "id": "OCwnAl2YJJzQ",
        "outputId": "99ffa827-df49-4df9-f2ae-dbad732964ab",
        "colab": {
          "base_uri": "https://localhost:8080/",
          "height": 623
        }
      },
      "execution_count": null,
      "outputs": [
        {
          "output_type": "stream",
          "name": "stdout",
          "text": [
            "132/132 [==============================] - 0s 2ms/step\n"
          ]
        },
        {
          "output_type": "display_data",
          "data": {
            "text/plain": [
              "<Figure size 720x720 with 1 Axes>"
            ],
            "image/png": "[encoded data removed]"
          },
          "metadata": {
            "needs_background": "light"
          }
        }
      ]
    },
    {
      "cell_type": "code",
      "source": [
        "y_pred = model.predict(X_test)\n",
        "X_test__ = X_test.reshape(X_test.shape[0], 28, 28)\n",
        "\n",
        "fig, axis = plt.subplots(4, 4, figsize=(12, 14))\n",
        "for i, ax in enumerate(axis.flat):\n",
        "    ax.imshow(X_test__[i], cmap='binary')\n",
        "    ax.set(title = f\"actual Number is {y_test[i].argmax()}\\nPredict is {y_pred[i].argmax()}\");"
      ],
      "metadata": {
        "id": "qn4EsXNaJJ4N",
        "outputId": "20a4582d-6657-4371-9139-2a88276d59ec",
        "colab": {
          "base_uri": "https://localhost:8080/",
          "height": 837
        }
      },
      "execution_count": null,
      "outputs": [
        {
          "output_type": "stream",
          "name": "stdout",
          "text": [
            "132/132 [==============================] - 0s 2ms/step\n"
          ]
        },
        {
          "output_type": "display_data",
          "data": {
            "text/plain": [
              "<Figure size 864x1008 with 16 Axes>"
            ],
            "image/png": "[encoded data removed]"
          },
          "metadata": {
            "needs_background": "light"
          }
        }
      ]
    },
    {
      "cell_type": "code",
      "source": [
        "\n"
      ],
      "metadata": {
        "id": "QhKXuSVZ7KcW"
      },
      "execution_count": null,
      "outputs": []
    },
    {
      "cell_type": "code",
      "source": [],
      "metadata": {
        "id": "Y240njsNOALW"
      },
      "execution_count": null,
      "outputs": []
    },
    {
      "cell_type": "code",
      "source": [],
      "metadata": {
        "id": "gba6v3FaOAMh"
      },
      "execution_count": null,
      "outputs": []
    },
    {
      "cell_type": "code",
      "source": [],
      "metadata": {
        "id": "xQqcxbRDOARk"
      },
      "execution_count": null,
      "outputs": []
    }
  ]
}